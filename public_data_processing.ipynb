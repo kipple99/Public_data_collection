{
 "cells": [
  {
   "cell_type": "code",
   "execution_count": 75,
   "metadata": {},
   "outputs": [],
   "source": [
    "import pandas as pd\n",
    "import re\n",
    "from urllib import response\n",
    "import requests\n",
    "from bs4 import BeautifulSoup"
   ]
  },
  {
   "cell_type": "code",
   "execution_count": 77,
   "metadata": {},
   "outputs": [],
   "source": [
    "df = pd.read_csv('국성우_공공데이터_크롤링.csv', index_col = 0)\n",
    "\n",
    "df['schema_url'] = df['variable_url'].apply(lambda x:re.sub('.do', '.json', re.sub('/data/', '/catalog/', x)))\n",
    "\n",
    "# lambda에서 x를 가공하고, 그 다음에 또 가공한 re.sub자체를 가공한다. 여기서, x는 한 데이터 프레임에 가공할 문자열(대상)을 의미한다.\n",
    "# df.replace('https://www.data.go.kr/data/', '')가 안먹히는 이유? replace 메소드 자체가 선택적 값을 찾아서 해주는것이 아닌 값 자체(전체)를 치환해주는 것이기 때문에 re.sub 메소드를 사용해야한다.\n",
    "\n",
    "schema_list = list(df['schema_url'])"
   ]
  },
  {
   "cell_type": "code",
   "execution_count": 78,
   "metadata": {},
   "outputs": [],
   "source": [
    "url = 'https://www.data.go.kr/catalog/15086313/fileData.json'\n",
    "response = requests.get(url)\n",
    "soup_dict = eval(response.text)\n",
    "# print(soup_dict)\n",
    "df_data = pd.DataFrame([soup_dict])"
   ]
  },
  {
   "cell_type": "code",
   "execution_count": 83,
   "metadata": {},
   "outputs": [
    {
     "data": {
      "text/plain": [
       "{'name': '환경부 한강홍수통제소_홍수예보_표준유역 AWS 강수량',\n",
       " 'description': '한강홍수통제소에서 수집, 측정하는 우량자료를 바탕으로 재계산한 대권역, 표준유역 별 우량 데이터입니다. 대권역명, 표준유역명, 우량 등 데이터를 제공합니다.',\n",
       " 'url': 'https://www.data.go.kr/data/15086313/fileData.do',\n",
       " 'keywords': ['홍수,수문,AWS'],\n",
       " 'license': 'https://data.go.kr/ugs/selectPortalPolicyView.do',\n",
       " 'dateCreated': '2021-08-20',\n",
       " 'dateModified': '2022-07-26',\n",
       " 'datePublished': '2021-08-20',\n",
       " 'creator': {'name': '환경부 한강홍수통제소',\n",
       "  'contactPoint': {'contactType': '예보통제과',\n",
       "   'telephone': '+82-025909945',\n",
       "   '@type': 'ContactPoint'},\n",
       "  '@type': 'Organization'},\n",
       " 'distribution': [{'encodingFormat': 'CSV',\n",
       "   'contentUrl': 'https://www.data.go.kr/cmm/cmm/fileDownload.do?atchFileId=FILE_000000002576483&fileDetailSn=1&insertDataPrcus=N',\n",
       "   '@type': 'DataDownload'}],\n",
       " '@context': 'https://schema.org',\n",
       " '@type': 'Dataset'}"
      ]
     },
     "execution_count": 83,
     "metadata": {},
     "output_type": "execute_result"
    }
   ],
   "source": [
    "df_data"
   ]
  },
  {
   "cell_type": "code",
   "execution_count": 81,
   "metadata": {},
   "outputs": [],
   "source": [
    "df_data.drop(['creator', 'distribution', '@context', '@type'], axis=1, inplace=True)\n",
    "\n",
    "df_data['creator_name'] = soup_dict['creator']['name']\n",
    "df_data['creator_contactPoint'] = soup_dict['creator']['contactPoint']['contactType']\n",
    "df_data['creator_telephone'] = soup_dict['creator']['contactPoint']['telephone']\n",
    "df_data['distribution_encodingFormat'] = soup_dict['distribution'][0]['encodingFormat']\n",
    "df_data['distribution_contentUrl'] = soup_dict['distribution'][0]['contentUrl']"
   ]
  },
  {
   "cell_type": "code",
   "execution_count": 74,
   "metadata": {},
   "outputs": [
    {
     "data": {
      "text/html": [
       "<div>\n",
       "<style scoped>\n",
       "    .dataframe tbody tr th:only-of-type {\n",
       "        vertical-align: middle;\n",
       "    }\n",
       "\n",
       "    .dataframe tbody tr th {\n",
       "        vertical-align: top;\n",
       "    }\n",
       "\n",
       "    .dataframe thead th {\n",
       "        text-align: right;\n",
       "    }\n",
       "</style>\n",
       "<table border=\"1\" class=\"dataframe\">\n",
       "  <thead>\n",
       "    <tr style=\"text-align: right;\">\n",
       "      <th></th>\n",
       "      <th>name</th>\n",
       "      <th>description</th>\n",
       "      <th>url</th>\n",
       "      <th>keywords</th>\n",
       "      <th>license</th>\n",
       "      <th>dateCreated</th>\n",
       "      <th>dateModified</th>\n",
       "      <th>datePublished</th>\n",
       "      <th>creator_name</th>\n",
       "      <th>creator_contactPoint</th>\n",
       "      <th>creator_telephone</th>\n",
       "      <th>distribution_encodingFormat</th>\n",
       "      <th>distribution_contentUrl</th>\n",
       "    </tr>\n",
       "  </thead>\n",
       "  <tbody>\n",
       "    <tr>\n",
       "      <th>0</th>\n",
       "      <td>환경부 한강홍수통제소_홍수예보_표준유역 AWS 강수량</td>\n",
       "      <td>한강홍수통제소에서 수집, 측정하는 우량자료를 바탕으로 재계산한 대권역, 표준유역 별...</td>\n",
       "      <td>https://www.data.go.kr/data/15086313/fileData.do</td>\n",
       "      <td>[홍수,수문,AWS]</td>\n",
       "      <td>https://data.go.kr/ugs/selectPortalPolicyView.do</td>\n",
       "      <td>2021-08-20</td>\n",
       "      <td>2022-07-26</td>\n",
       "      <td>2021-08-20</td>\n",
       "      <td>환경부 한강홍수통제소</td>\n",
       "      <td>예보통제과</td>\n",
       "      <td>+82-025909945</td>\n",
       "      <td>CSV</td>\n",
       "      <td>https://www.data.go.kr/cmm/cmm/fileDownload.do...</td>\n",
       "    </tr>\n",
       "  </tbody>\n",
       "</table>\n",
       "</div>"
      ],
      "text/plain": [
       "                            name  \\\n",
       "0  환경부 한강홍수통제소_홍수예보_표준유역 AWS 강수량   \n",
       "\n",
       "                                         description  \\\n",
       "0  한강홍수통제소에서 수집, 측정하는 우량자료를 바탕으로 재계산한 대권역, 표준유역 별...   \n",
       "\n",
       "                                                url     keywords  \\\n",
       "0  https://www.data.go.kr/data/15086313/fileData.do  [홍수,수문,AWS]   \n",
       "\n",
       "                                            license dateCreated dateModified  \\\n",
       "0  https://data.go.kr/ugs/selectPortalPolicyView.do  2021-08-20   2022-07-26   \n",
       "\n",
       "  datePublished creator_name creator_contactPoint creator_telephone  \\\n",
       "0    2021-08-20  환경부 한강홍수통제소                예보통제과     +82-025909945   \n",
       "\n",
       "  distribution_encodingFormat  \\\n",
       "0                         CSV   \n",
       "\n",
       "                             distribution_contentUrl  \n",
       "0  https://www.data.go.kr/cmm/cmm/fileDownload.do...  "
      ]
     },
     "execution_count": 74,
     "metadata": {},
     "output_type": "execute_result"
    }
   ],
   "source": [
    "df_data"
   ]
  },
  {
   "cell_type": "code",
   "execution_count": 58,
   "metadata": {},
   "outputs": [],
   "source": [
    "# 빈데이터프레임을 선언한다 df_va\n",
    "# 성개코를 돌려서, 여기서 나온 데이터를 갖다박는다. df_va와 concat\n",
    "# 그리고 포문안에서 다시 df_va = pd.concat([df_va,df], axis = 1)"
   ]
  },
  {
   "cell_type": "code",
   "execution_count": 59,
   "metadata": {},
   "outputs": [],
   "source": [
    "for i in schema_list[:3]:\n",
    "    url = i\n",
    "    response = requests.get(url)\n",
    "    soup_dict = eval(response.text)\n",
    "    # print(soup_dict)\n",
    "    df_data = pd.DataFrame([soup_dict])\n",
    "    df_data.drop(['creator', 'distribution', '@context', '@type'], axis=1, inplace=True)\n",
    "    \n",
    "    new_df = pd.DataFrame(columns=df_data.columns)\n",
    "    new_df.loc[0, 'name'] = df_data.loc[0,'name']\n",
    "    new_df.loc[0, 'description'] = soup_dict['creator']['contactPoint']['contactType']\n",
    "    new_df.loc[0, 'url'] = soup_dict['creator']['contactPoint']['telephone']\n",
    "    new_df.loc[0, 'keywords'] = soup_dict['distribution'][0]['encodingFormat']\n",
    "    new_df.loc[0, 'license'] = soup_dict['distribution'][0]['contentUrl']\n",
    "    new_df.loc[0, 'dateCreated'] = soup_dict['distribution'][0]['contentUrl']\n",
    "    new_df.loc[0, 'dateModified'] = soup_dict['distribution'][0]['contentUrl']\n",
    "    new_df.loc[0, 'datePublished'] = soup_dict['distribution'][0]['contentUrl']\n",
    "    new_df.loc[0, 'creator_name'] = soup_dict['creator']['name']\n",
    "    new_df.loc[0, 'creator_contactPoint'] = soup_dict['creator']['contactPoint']['contactType']\n",
    "    new_df.loc[0, 'creator_telephone'] = soup_dict['creator']['contactPoint']['telephone']\n",
    "    new_df.loc[0, 'distribution_encodingFormat'] = soup_dict['distribution'][0]['encodingFormat']\n",
    "    new_df.loc[0, 'distribution_contentUrl'] = soup_dict['distribution'][0]['contentUrl']\n",
    "    \n",
    "    df_data = pd.concat((df_data, new_df), axis=0)\n",
    "    \n",
    "df_data.to_csv('정형데이터_테스트.csv', encoding='utf-8-sig')"
   ]
  },
  {
   "cell_type": "code",
   "execution_count": 60,
   "metadata": {},
   "outputs": [
    {
     "data": {
      "text/plain": [
       "Index(['name', 'description', 'url', 'keywords', 'license', 'dateCreated',\n",
       "       'dateModified', 'datePublished', 'creator_name', 'creator_contactPoint',\n",
       "       'creator_telephone', 'distribution_encodingFormat',\n",
       "       'distribution_contentUrl'],\n",
       "      dtype='object')"
      ]
     },
     "execution_count": 60,
     "metadata": {},
     "output_type": "execute_result"
    }
   ],
   "source": [
    "df_data.columns"
   ]
  },
  {
   "cell_type": "code",
   "execution_count": 61,
   "metadata": {},
   "outputs": [
    {
     "data": {
      "text/plain": [
       "['https://www.data.go.kr/catalog/15086313/fileData.json',\n",
       " 'https://www.data.go.kr/catalog/15086318/fileData.json',\n",
       " 'https://www.data.go.kr/catalog/15036624/fileData.json']"
      ]
     },
     "execution_count": 61,
     "metadata": {},
     "output_type": "execute_result"
    }
   ],
   "source": [
    "schema_list[:3]"
   ]
  },
  {
   "cell_type": "code",
   "execution_count": 62,
   "metadata": {},
   "outputs": [],
   "source": [
    "new_df = pd.DataFrame(columns=df_data.columns)"
   ]
  },
  {
   "cell_type": "code",
   "execution_count": 63,
   "metadata": {},
   "outputs": [
    {
     "data": {
      "text/html": [
       "<div>\n",
       "<style scoped>\n",
       "    .dataframe tbody tr th:only-of-type {\n",
       "        vertical-align: middle;\n",
       "    }\n",
       "\n",
       "    .dataframe tbody tr th {\n",
       "        vertical-align: top;\n",
       "    }\n",
       "\n",
       "    .dataframe thead th {\n",
       "        text-align: right;\n",
       "    }\n",
       "</style>\n",
       "<table border=\"1\" class=\"dataframe\">\n",
       "  <thead>\n",
       "    <tr style=\"text-align: right;\">\n",
       "      <th></th>\n",
       "      <th>name</th>\n",
       "      <th>description</th>\n",
       "      <th>url</th>\n",
       "      <th>keywords</th>\n",
       "      <th>license</th>\n",
       "      <th>dateCreated</th>\n",
       "      <th>dateModified</th>\n",
       "      <th>datePublished</th>\n",
       "      <th>creator_name</th>\n",
       "      <th>creator_contactPoint</th>\n",
       "      <th>creator_telephone</th>\n",
       "      <th>distribution_encodingFormat</th>\n",
       "      <th>distribution_contentUrl</th>\n",
       "    </tr>\n",
       "  </thead>\n",
       "  <tbody>\n",
       "  </tbody>\n",
       "</table>\n",
       "</div>"
      ],
      "text/plain": [
       "Empty DataFrame\n",
       "Columns: [name, description, url, keywords, license, dateCreated, dateModified, datePublished, creator_name, creator_contactPoint, creator_telephone, distribution_encodingFormat, distribution_contentUrl]\n",
       "Index: []"
      ]
     },
     "execution_count": 63,
     "metadata": {},
     "output_type": "execute_result"
    }
   ],
   "source": [
    "new_df"
   ]
  },
  {
   "cell_type": "code",
   "execution_count": 64,
   "metadata": {},
   "outputs": [
    {
     "data": {
      "text/plain": [
       "str"
      ]
     },
     "execution_count": 64,
     "metadata": {},
     "output_type": "execute_result"
    }
   ],
   "source": [
    "type(soup_dict['creator']['name'])"
   ]
  },
  {
   "cell_type": "code",
   "execution_count": 65,
   "metadata": {},
   "outputs": [],
   "source": [
    "new_df.loc[0, 'name'] = df_data.loc[0,'name']\n",
    "new_df.loc[0, 'description'] = soup_dict['creator']['contactPoint']['contactType']\n",
    "new_df.loc[0, 'url'] = soup_dict['creator']['contactPoint']['telephone']\n",
    "new_df.loc[0, 'keywords'] = soup_dict['distribution'][0]['encodingFormat']\n",
    "new_df.loc[0, 'license'] = soup_dict['distribution'][0]['contentUrl']\n",
    "new_df.loc[0, 'dateCreated'] = soup_dict['distribution'][0]['contentUrl']\n",
    "new_df.loc[0, 'dateModified'] = soup_dict['distribution'][0]['contentUrl']\n",
    "new_df.loc[0, 'datePublished'] = soup_dict['distribution'][0]['contentUrl']\n",
    "new_df.loc[0, 'creator_name'] = soup_dict['creator']['name']\n",
    "new_df.loc[0, 'creator_contactPoint'] = soup_dict['creator']['contactPoint']['contactType']\n",
    "new_df.loc[0, 'creator_telephone'] = soup_dict['creator']['contactPoint']['telephone']\n",
    "new_df.loc[0, 'distribution_encodingFormat'] = soup_dict['distribution'][0]['encodingFormat']\n",
    "new_df.loc[0, 'distribution_contentUrl'] = soup_dict['distribution'][0]['contentUrl']\n"
   ]
  },
  {
   "cell_type": "code",
   "execution_count": 66,
   "metadata": {},
   "outputs": [
    {
     "data": {
      "text/html": [
       "<div>\n",
       "<style scoped>\n",
       "    .dataframe tbody tr th:only-of-type {\n",
       "        vertical-align: middle;\n",
       "    }\n",
       "\n",
       "    .dataframe tbody tr th {\n",
       "        vertical-align: top;\n",
       "    }\n",
       "\n",
       "    .dataframe thead th {\n",
       "        text-align: right;\n",
       "    }\n",
       "</style>\n",
       "<table border=\"1\" class=\"dataframe\">\n",
       "  <thead>\n",
       "    <tr style=\"text-align: right;\">\n",
       "      <th></th>\n",
       "      <th>name</th>\n",
       "      <th>description</th>\n",
       "      <th>url</th>\n",
       "      <th>keywords</th>\n",
       "      <th>license</th>\n",
       "      <th>dateCreated</th>\n",
       "      <th>dateModified</th>\n",
       "      <th>datePublished</th>\n",
       "      <th>creator_name</th>\n",
       "      <th>creator_contactPoint</th>\n",
       "      <th>creator_telephone</th>\n",
       "      <th>distribution_encodingFormat</th>\n",
       "      <th>distribution_contentUrl</th>\n",
       "    </tr>\n",
       "  </thead>\n",
       "  <tbody>\n",
       "    <tr>\n",
       "      <th>0</th>\n",
       "      <td>환경부 한강홍수통제소_홍수예보_표준유역 AWS 강수량</td>\n",
       "      <td>예보통제과</td>\n",
       "      <td>+82-025909945</td>\n",
       "      <td>CSV</td>\n",
       "      <td>https://www.data.go.kr/cmm/cmm/fileDownload.do...</td>\n",
       "      <td>https://www.data.go.kr/cmm/cmm/fileDownload.do...</td>\n",
       "      <td>https://www.data.go.kr/cmm/cmm/fileDownload.do...</td>\n",
       "      <td>https://www.data.go.kr/cmm/cmm/fileDownload.do...</td>\n",
       "      <td>환경부 한강홍수통제소</td>\n",
       "      <td>예보통제과</td>\n",
       "      <td>+82-025909945</td>\n",
       "      <td>CSV</td>\n",
       "      <td>https://www.data.go.kr/cmm/cmm/fileDownload.do...</td>\n",
       "    </tr>\n",
       "  </tbody>\n",
       "</table>\n",
       "</div>"
      ],
      "text/plain": [
       "                            name description            url keywords  \\\n",
       "0  환경부 한강홍수통제소_홍수예보_표준유역 AWS 강수량       예보통제과  +82-025909945      CSV   \n",
       "\n",
       "                                             license  \\\n",
       "0  https://www.data.go.kr/cmm/cmm/fileDownload.do...   \n",
       "\n",
       "                                         dateCreated  \\\n",
       "0  https://www.data.go.kr/cmm/cmm/fileDownload.do...   \n",
       "\n",
       "                                        dateModified  \\\n",
       "0  https://www.data.go.kr/cmm/cmm/fileDownload.do...   \n",
       "\n",
       "                                       datePublished creator_name  \\\n",
       "0  https://www.data.go.kr/cmm/cmm/fileDownload.do...  환경부 한강홍수통제소   \n",
       "\n",
       "  creator_contactPoint creator_telephone distribution_encodingFormat  \\\n",
       "0                예보통제과     +82-025909945                         CSV   \n",
       "\n",
       "                             distribution_contentUrl  \n",
       "0  https://www.data.go.kr/cmm/cmm/fileDownload.do...  "
      ]
     },
     "execution_count": 66,
     "metadata": {},
     "output_type": "execute_result"
    }
   ],
   "source": [
    "new_df"
   ]
  },
  {
   "cell_type": "code",
   "execution_count": 68,
   "metadata": {},
   "outputs": [],
   "source": [
    "df_data = pd.concat((df_data, new_df), axis=0)"
   ]
  },
  {
   "cell_type": "code",
   "execution_count": 69,
   "metadata": {},
   "outputs": [
    {
     "data": {
      "text/html": [
       "<div>\n",
       "<style scoped>\n",
       "    .dataframe tbody tr th:only-of-type {\n",
       "        vertical-align: middle;\n",
       "    }\n",
       "\n",
       "    .dataframe tbody tr th {\n",
       "        vertical-align: top;\n",
       "    }\n",
       "\n",
       "    .dataframe thead th {\n",
       "        text-align: right;\n",
       "    }\n",
       "</style>\n",
       "<table border=\"1\" class=\"dataframe\">\n",
       "  <thead>\n",
       "    <tr style=\"text-align: right;\">\n",
       "      <th></th>\n",
       "      <th>name</th>\n",
       "      <th>description</th>\n",
       "      <th>url</th>\n",
       "      <th>keywords</th>\n",
       "      <th>license</th>\n",
       "      <th>dateCreated</th>\n",
       "      <th>dateModified</th>\n",
       "      <th>datePublished</th>\n",
       "      <th>creator_name</th>\n",
       "      <th>creator_contactPoint</th>\n",
       "      <th>creator_telephone</th>\n",
       "      <th>distribution_encodingFormat</th>\n",
       "      <th>distribution_contentUrl</th>\n",
       "    </tr>\n",
       "  </thead>\n",
       "  <tbody>\n",
       "    <tr>\n",
       "      <th>0</th>\n",
       "      <td>환경부 한강홍수통제소_홍수예보_표준유역 AWS 강수량</td>\n",
       "      <td>한강홍수통제소에서 수집, 측정하는 우량자료를 바탕으로 재계산한 대권역, 표준유역 별...</td>\n",
       "      <td>https://www.data.go.kr/data/15086313/fileData.do</td>\n",
       "      <td>[홍수,수문,AWS]</td>\n",
       "      <td>https://data.go.kr/ugs/selectPortalPolicyView.do</td>\n",
       "      <td>2021-08-20</td>\n",
       "      <td>2022-07-26</td>\n",
       "      <td>2021-08-20</td>\n",
       "      <td>환경부 한강홍수통제소</td>\n",
       "      <td>예보통제과</td>\n",
       "      <td>+82-025909945</td>\n",
       "      <td>CSV</td>\n",
       "      <td>https://www.data.go.kr/cmm/cmm/fileDownload.do...</td>\n",
       "    </tr>\n",
       "    <tr>\n",
       "      <th>0</th>\n",
       "      <td>환경부 한강홍수통제소_홍수예보_표준유역 AWS 강수량</td>\n",
       "      <td>한강홍수통제소에서 수집, 측정하는 우량자료를 바탕으로 재계산한 대권역, 표준유역 별...</td>\n",
       "      <td>https://www.data.go.kr/data/15086313/fileData.do</td>\n",
       "      <td>[홍수,수문,AWS]</td>\n",
       "      <td>https://data.go.kr/ugs/selectPortalPolicyView.do</td>\n",
       "      <td>2021-08-20</td>\n",
       "      <td>2022-07-26</td>\n",
       "      <td>2021-08-20</td>\n",
       "      <td>환경부 한강홍수통제소</td>\n",
       "      <td>예보통제과</td>\n",
       "      <td>+82-025909945</td>\n",
       "      <td>CSV</td>\n",
       "      <td>https://www.data.go.kr/cmm/cmm/fileDownload.do...</td>\n",
       "    </tr>\n",
       "    <tr>\n",
       "      <th>0</th>\n",
       "      <td>환경부 한강홍수통제소_홍수예보_표준유역 AWS 강수량</td>\n",
       "      <td>예보통제과</td>\n",
       "      <td>+82-025909945</td>\n",
       "      <td>CSV</td>\n",
       "      <td>https://www.data.go.kr/cmm/cmm/fileDownload.do...</td>\n",
       "      <td>https://www.data.go.kr/cmm/cmm/fileDownload.do...</td>\n",
       "      <td>https://www.data.go.kr/cmm/cmm/fileDownload.do...</td>\n",
       "      <td>https://www.data.go.kr/cmm/cmm/fileDownload.do...</td>\n",
       "      <td>환경부 한강홍수통제소</td>\n",
       "      <td>예보통제과</td>\n",
       "      <td>+82-025909945</td>\n",
       "      <td>CSV</td>\n",
       "      <td>https://www.data.go.kr/cmm/cmm/fileDownload.do...</td>\n",
       "    </tr>\n",
       "  </tbody>\n",
       "</table>\n",
       "</div>"
      ],
      "text/plain": [
       "                            name  \\\n",
       "0  환경부 한강홍수통제소_홍수예보_표준유역 AWS 강수량   \n",
       "0  환경부 한강홍수통제소_홍수예보_표준유역 AWS 강수량   \n",
       "0  환경부 한강홍수통제소_홍수예보_표준유역 AWS 강수량   \n",
       "\n",
       "                                         description  \\\n",
       "0  한강홍수통제소에서 수집, 측정하는 우량자료를 바탕으로 재계산한 대권역, 표준유역 별...   \n",
       "0  한강홍수통제소에서 수집, 측정하는 우량자료를 바탕으로 재계산한 대권역, 표준유역 별...   \n",
       "0                                              예보통제과   \n",
       "\n",
       "                                                url     keywords  \\\n",
       "0  https://www.data.go.kr/data/15086313/fileData.do  [홍수,수문,AWS]   \n",
       "0  https://www.data.go.kr/data/15086313/fileData.do  [홍수,수문,AWS]   \n",
       "0                                     +82-025909945          CSV   \n",
       "\n",
       "                                             license  \\\n",
       "0   https://data.go.kr/ugs/selectPortalPolicyView.do   \n",
       "0   https://data.go.kr/ugs/selectPortalPolicyView.do   \n",
       "0  https://www.data.go.kr/cmm/cmm/fileDownload.do...   \n",
       "\n",
       "                                         dateCreated  \\\n",
       "0                                         2021-08-20   \n",
       "0                                         2021-08-20   \n",
       "0  https://www.data.go.kr/cmm/cmm/fileDownload.do...   \n",
       "\n",
       "                                        dateModified  \\\n",
       "0                                         2022-07-26   \n",
       "0                                         2022-07-26   \n",
       "0  https://www.data.go.kr/cmm/cmm/fileDownload.do...   \n",
       "\n",
       "                                       datePublished creator_name  \\\n",
       "0                                         2021-08-20  환경부 한강홍수통제소   \n",
       "0                                         2021-08-20  환경부 한강홍수통제소   \n",
       "0  https://www.data.go.kr/cmm/cmm/fileDownload.do...  환경부 한강홍수통제소   \n",
       "\n",
       "  creator_contactPoint creator_telephone distribution_encodingFormat  \\\n",
       "0                예보통제과     +82-025909945                         CSV   \n",
       "0                예보통제과     +82-025909945                         CSV   \n",
       "0                예보통제과     +82-025909945                         CSV   \n",
       "\n",
       "                             distribution_contentUrl  \n",
       "0  https://www.data.go.kr/cmm/cmm/fileDownload.do...  \n",
       "0  https://www.data.go.kr/cmm/cmm/fileDownload.do...  \n",
       "0  https://www.data.go.kr/cmm/cmm/fileDownload.do...  "
      ]
     },
     "execution_count": 69,
     "metadata": {},
     "output_type": "execute_result"
    }
   ],
   "source": [
    "df_data"
   ]
  },
  {
   "cell_type": "code",
   "execution_count": null,
   "metadata": {},
   "outputs": [],
   "source": []
  }
 ],
 "metadata": {
  "kernelspec": {
   "display_name": "Python 3.9.7 ('base')",
   "language": "python",
   "name": "python3"
  },
  "language_info": {
   "codemirror_mode": {
    "name": "ipython",
    "version": 3
   },
   "file_extension": ".py",
   "mimetype": "text/x-python",
   "name": "python",
   "nbconvert_exporter": "python",
   "pygments_lexer": "ipython3",
   "version": "3.9.7"
  },
  "orig_nbformat": 4,
  "vscode": {
   "interpreter": {
    "hash": "a077222d77dfe082b8f1dd562ad70e458ac2ab76993a0b248ab0476e32e9e8dd"
   }
  }
 },
 "nbformat": 4,
 "nbformat_minor": 2
}
